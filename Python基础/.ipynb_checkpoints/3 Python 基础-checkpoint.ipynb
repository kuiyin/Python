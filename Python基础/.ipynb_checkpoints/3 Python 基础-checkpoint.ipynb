{
 "cells": [
  {
   "cell_type": "markdown",
   "metadata": {},
   "source": [
    "# 基本风格指南"
   ]
  },
  {
   "cell_type": "markdown",
   "metadata": {},
   "source": [
    "文档\n",
    "Python 还提供了一个机制，可以通过 __doc__ 特别变量，动态获得文档字串。在模块、类声明、或 函数声明中第一个没有赋值的字符串可以用属性 obj._doc_来进行访问，其中 obj 是一个模块、类、或 函数的名字。这在运行时也可以进行!"
   ]
  },
  {
   "cell_type": "code",
   "execution_count": 1,
   "metadata": {},
   "outputs": [
    {
     "name": "stdout",
     "output_type": "stream",
     "text": [
      "The Zen of Python, by Tim Peters\n",
      "\n",
      "Beautiful is better than ugly.\n",
      "Explicit is better than implicit.\n",
      "Simple is better than complex.\n",
      "Complex is better than complicated.\n",
      "Flat is better than nested.\n",
      "Sparse is better than dense.\n",
      "Readability counts.\n",
      "Special cases aren't special enough to break the rules.\n",
      "Although practicality beats purity.\n",
      "Errors should never pass silently.\n",
      "Unless explicitly silenced.\n",
      "In the face of ambiguity, refuse the temptation to guess.\n",
      "There should be one-- and preferably only one --obvious way to do it.\n",
      "Although that way may not be obvious at first unless you're Dutch.\n",
      "Now is better than never.\n",
      "Although never is often better than *right* now.\n",
      "If the implementation is hard to explain, it's a bad idea.\n",
      "If the implementation is easy to explain, it may be a good idea.\n",
      "Namespaces are one honking great idea -- let's do more of those!\n"
     ]
    }
   ],
   "source": [
    "# Python 之禅\n",
    "import this"
   ]
  },
  {
   "cell_type": "raw",
   "metadata": {},
   "source": [
    "模块结构和布局\n",
    "# (1) 起始行(Unix) \n",
    "# (2) 模块文档 \n",
    "# (3) 模块导入 \n",
    "# (4) 变量定义 \n",
    "# (5) 类定义\n",
    "# (6) 函数定义 \n",
    "# (7) 主程序"
   ]
  },
  {
   "cell_type": "code",
   "execution_count": 3,
   "metadata": {},
   "outputs": [
    {
     "name": "stdout",
     "output_type": "stream",
     "text": [
      "ran test()\n"
     ]
    }
   ],
   "source": [
    "# /usr/bin/env python\n",
    "\n",
    "\"this is a test module\"\n",
    "\n",
    "import sys\n",
    "import os\n",
    "\n",
    "debug = True\n",
    "\n",
    "class FooClass(object):\n",
    "    \"Foo class\"\n",
    "    \n",
    "    pass\n",
    "\n",
    "def test():\n",
    "    \"test function\"\n",
    "    foo = FooClass()\n",
    "    if debug:\n",
    "        print 'ran test()'\n",
    "\n",
    "if __name__ == '__main__':\n",
    "    test()"
   ]
  },
  {
   "cell_type": "markdown",
   "metadata": {},
   "source": [
    "__name__ 指示模块应如何应被加载\n",
    "• 如果模块是被导入，__name__ 的值为模块名字\n",
    "• 如果模块是被直接执行，__name__ 的值为 '__main__'。"
   ]
  },
  {
   "cell_type": "markdown",
   "metadata": {},
   "source": [
    "在主程序中书写测试代码\n",
    "优秀的程序员和软件工程师，总是会为我们的应用程序提供一组测试代码或者简单教程。对那些仅 仅为了让别的程序导入而创建的模块来说，Python有效地简化了这个任务。这些模块理论上永远不会被 直接执行，那么，在这个模块被直接执行时进行系统测试岂不妙哉？设置起来难吗？一点儿也不难。 测试代码仅当该文件被直接执行时运行，也就是说，不是在被别的模块导入时。上文及核心笔记中 提到如何判断一个模块是被直接运行还是被导入的。我们应该利用_name_变量这个有利条件。将测试 代码放在一个叫做main()或testO(或者你随便取个名字）的函数中，如果该模块是被当成脚本运行，就调用这个函数。\n",
    "Python 标准库中运提供了 unittest 模块， 有时候它被称为 PyUnit, 是一个测试框架。当需要对一个大系统的组件进行正规系统的回归测试时，它就会派上用场。 "
   ]
  },
  {
   "cell_type": "markdown",
   "metadata": {},
   "source": [
    "# 内存管理"
   ]
  },
  {
   "cell_type": "markdown",
   "metadata": {},
   "source": [
    "引用计数、循环引用、垃圾收集"
   ]
  },
  {
   "cell_type": "markdown",
   "metadata": {},
   "source": [
    "# 第一个Python程序"
   ]
  },
  {
   "cell_type": "markdown",
   "metadata": {},
   "source": [
    "创建文件（makeTextFile.py）"
   ]
  },
  {
   "cell_type": "code",
   "execution_count": 6,
   "metadata": {},
   "outputs": [
    {
     "name": "stdout",
     "output_type": "stream",
     "text": [
      "current path: D:\\Awang\\JupyterNotebook\\Python\\Python����\n",
      ">poem\n",
      "\n",
      "Enter lines ('.' by itself to quti).\n",
      "\n",
      ">The Zen of Python, by Tim Peters\n",
      ">\n",
      ">Beautiful is better than ugly.\n",
      ">Explicit is better than implicit.\n",
      ">Simple is better than complex.\n",
      ">Complex is better than complicated.\n",
      ">Flat is better than nested.\n",
      ">Sparse is better than dense.\n",
      ">Readability counts.\n",
      ">Special cases aren't special enough to break the rules.\n",
      ">Although practicality beats purity.\n",
      ">Errors should never pass silently.\n",
      ">Unless explicitly silenced.\n",
      ">In the face of ambiguity, refuse the temptation to guess.\n",
      ">There should be one-- and preferably only one --obvious way to do it.\n",
      ">Although that way may not be obvious at first unless you're Dutch.\n",
      ">\n",
      ">Now is better than never.\n",
      ">Although never is often better than *right* now.\n",
      ">If the implementation is hard to explain, it's a bad idea.\n",
      ">If the implementation is easy to explain, it may be a good idea.\n",
      ">Namespaces are one honking great idea -- let's do more of those!\n",
      ">.\n",
      "DONE\n"
     ]
    }
   ],
   "source": [
    "# !/usr/bin/env python\n",
    "\n",
    "'makeTextFile.py -- create text file'\n",
    "\n",
    "import os\n",
    "ls = os.linesep\n",
    "\n",
    "print \"current path:\", os.getcwd()\n",
    "\n",
    "while True:\n",
    "    fname = raw_input('>')\n",
    "    if os.path.exists(fname):\n",
    "        print \"Error: '%s' already exists\" % fname\n",
    "    else:\n",
    "        break\n",
    "\n",
    "all = []\n",
    "print \"\\nEnter lines ('.' by itself to quti).\\n\"\n",
    "\n",
    "while True:\n",
    "    entry = raw_input(\">\")\n",
    "    if entry == '.':\n",
    "        break\n",
    "    else:\n",
    "        all.append(entry)\n",
    "        \n",
    "fobj = open(fname, 'w')\n",
    "fobj.writelines(['%s%s' % (x, ls) for x in all])\n",
    "fobj.close()\n",
    "print 'DONE'"
   ]
  },
  {
   "cell_type": "markdown",
   "metadata": {},
   "source": [
    "文件读取和显示（readTextFile.py）"
   ]
  },
  {
   "cell_type": "code",
   "execution_count": 7,
   "metadata": {},
   "outputs": [
    {
     "name": "stdout",
     "output_type": "stream",
     "text": [
      "Enter filename: poem\n",
      "\n",
      "The Zen of Python, by Tim Peters\n",
      "\n",
      "Beautiful is better than ugly.\n",
      "Explicit is better than implicit.\n",
      "Simple is better than complex.\n",
      "Complex is better than complicated.\n",
      "Flat is better than nested.\n",
      "Sparse is better than dense.\n",
      "Readability counts.\n",
      "Special cases aren't special enough to break the rules.\n",
      "Although practicality beats purity.\n",
      "Errors should never pass silently.\n",
      "Unless explicitly silenced.\n",
      "In the face of ambiguity, refuse the temptation to guess.\n",
      "There should be one-- and preferably only one --obvious way to do it.\n",
      "Although that way may not be obvious at first unless you're Dutch.\n",
      "\n",
      "Now is better than never.\n",
      "Although never is often better than *right* now.\n",
      "If the implementation is hard to explain, it's a bad idea.\n",
      "If the implementation is easy to explain, it may be a good idea.\n",
      "Namespaces are one honking great idea -- let's do more of those!\n"
     ]
    }
   ],
   "source": [
    "# !/usr/bin/env python\n",
    "\n",
    "'readTextFile.py -- read and display text file'\n",
    "\n",
    "fname = raw_input(\"Enter filename: \")\n",
    "print\n",
    "\n",
    "try:\n",
    "    fobj = open(fname, 'r')\n",
    "except IOError, e:\n",
    "    print \"*** file open error:\", e\n",
    "else:\n",
    "    for eachLine in fobj:\n",
    "        print eachLine,\n",
    "    fobj.close()"
   ]
  },
  {
   "cell_type": "markdown",
   "metadata": {},
   "source": [
    "# 相关模块和开发工具"
   ]
  },
  {
   "cell_type": "markdown",
   "metadata": {},
   "source": [
    "《Python 风格指南》 （Python Style Guide，PEP8)、 《Python 快速参考指南》 （Python Quick Reference Guide) 和《Python 常见问答》（Python FAQ) 都是开发者很重要的 “工具”。另外，还有一些模块会帮助你成为一个优秀的 Python 程序员。 \n",
    "调试器：pdb\n",
    "记录器：logging\n",
    "性能测试器：profile、hotshot、cProfile\n",
    "logging 模块是在 Python2.3 中新增的，它定义了一些函数和类帮助你的程序实现灵活的日志系统。 共有五级日志级别：紧急、错误、警告、信息和调试。 "
   ]
  },
  {
   "cell_type": "code",
   "execution_count": 15,
   "metadata": {},
   "outputs": [
    {
     "data": {
      "text/plain": [
       "\"'\\\\r\\\\n'\""
      ]
     },
     "execution_count": 15,
     "metadata": {},
     "output_type": "execute_result"
    }
   ],
   "source": [
    "import os\n",
    "ls = os.linesep\n",
    "repr(ls)"
   ]
  },
  {
   "cell_type": "markdown",
   "metadata": {},
   "source": [
    "# 实战\n",
    "针对于 makeTextFile.py 和 readTextFile.py 脚本\n",
    "1、合并源文件。将两段程序合并成一个，给它起一个你喜欢的名字，比如readNwriteTextFiles.py。 让用户自己选择是创建还是显示一个文本文件\n",
    "2、添加新功能。将你上一个问题改造好的readNwriteTextFileS.py 增加一个新功能：允许用户编辑一个已经存在的文本文件。你可以使用任何方式，无论是一次编辑一行，还是一次编辑所有文本。需要提醒一下的是，一次编辑全部文本有一定难度，你可能需要借助 GUI 工具包或一 个基于屏幕文本编辑的模块比如 curses 模块。要允许用户保存他的修改（保存到文件）或取 消他的修改（不改变原始文件)，并且要确保原始文件的安全性（不论程序是否正常关闭） 。"
   ]
  },
  {
   "cell_type": "markdown",
   "metadata": {},
   "source": [
    "文件编码器（readNwriteTextFiles.py）"
   ]
  },
  {
   "cell_type": "code",
   "execution_count": 1,
   "metadata": {},
   "outputs": [
    {
     "name": "stdout",
     "output_type": "stream",
     "text": [
      "Read Or Wirte file?\n",
      "Please Enter 'read' or 'write', 'q' to quit>q\n",
      "Please Enter 'read' or 'write', 'q' to quit>read\n"
     ]
    }
   ],
   "source": [
    "# !/usr/bin/env python\n",
    "\n",
    "'readNwirteTextFiles.py -- read or write text file'\n",
    "\n",
    "import sys\n",
    "import os\n",
    "ls = os.linesep\n",
    "\n",
    "print \"Read Or Wirte file?\"\n",
    "\n",
    "while True:\n",
    "    process = raw_input(\"Please Enter 'read' or 'write', 'q' to quit>\")\n",
    "    if process == 'q':\n",
    "        exit\n",
    "    elif process == 'read' or process == 'wirte':\n",
    "        break\n",
    "    else:\n",
    "        print \"[Error]Please Enter 'read' or 'write', Enter 'q' to quit.\"\n",
    "\n",
    "\n",
    "\n",
    "\n",
    "if process == 'read':\n",
    "    pass\n",
    "else:\n",
    "    pass\n"
   ]
  },
  {
   "cell_type": "markdown",
   "metadata": {},
   "source": [
    "# 练习\n",
    "添加新功能。将你上一个问题改造好的readNwriteTextFileS.py 增加一个新功能：允许用户编辑一个已经存在的文本文件。你可以使用任何方式，无论是一次编辑一行，还是一次编辑所有文本。需要提醒一下的是，一次编辑全部文本有一定难度，你可能需要借助 GUI 工具包或一个基于屏幕文本编辑的模块比如 curses 模块。要允许用户保存他的修改（保存到文件）或取 消他的修改（不改变原始文件)，并且要确保原始文件的安全性（不论程序是否正常关闭） 。\n"
   ]
  },
  {
   "cell_type": "markdown",
   "metadata": {},
   "source": [
    "\n",
    "# 使用Phthon写一个VIM文本编辑器\n",
    "myVim.py"
   ]
  },
  {
   "cell_type": "code",
   "execution_count": 3,
   "metadata": {},
   "outputs": [
    {
     "name": "stdout",
     "output_type": "stream",
     "text": [
      "Welcom to Simple VIM Editor 1.0 !\n",
      "Current path: D:\\Users\\WDW\\Desktop\\DevProjects\\JupyterNotebook\\Python\\Python����\n",
      "Please input: 'i' to editor, 'r' to read, 'w' to save, 'q' to quit.\n",
      "input:i\n",
      "i\n",
      "main function\n",
      "switch\n",
      "如果需要退出编辑，回车后输入 :q \n",
      "123\n",
      ":q\n",
      "input:w\n",
      "w\n",
      "main function\n",
      "switch\n",
      "Please input the file name: 123\n",
      "The file has saved!\n",
      "filename is :123\n",
      "input:r\n",
      "r\n",
      "main function\n",
      "switch\n",
      "Please input he file name: 123\n",
      "123\n",
      "6L6T5YWl5Lu75oSP6ZSu57uT5p2f\n",
      "q\n",
      "input:q\n",
      "q\n"
     ]
    }
   ],
   "source": [
    "# !/usr/bin/env python\n",
    "\n",
    "'myVim -- a text editor'\n",
    "\n",
    "import os\n",
    "\n",
    "data = []\n",
    "\n",
    "def exitEditor():\n",
    "    \"exit the editor\"\n",
    "    print \"exit editor !\"\n",
    "    os.system('cls')\n",
    "\n",
    "def textEditor():\n",
    "    \"edit the text\"\n",
    "    os.system('cls')\n",
    "    print \"如果需要退出编辑，回车后输入 :q \"\n",
    "    while True:\n",
    "        input_ch = raw_input()\n",
    "        if input_ch == ':q':\n",
    "            break\n",
    "        else:\n",
    "            data.append(input_ch)\n",
    "\n",
    "def saveText():\n",
    "    \"save text as a file\"\n",
    "    os.system('cls')\n",
    "    filename_w = raw_input(\"Please input the file name: \")\n",
    "    with open(filename_w, 'w') as fw:\n",
    "        for item in data:\n",
    "            fw.writelines(item)\n",
    "    print \"The file has saved!\" \"\\n\" \"filename is :\" + filename_w\n",
    "\n",
    "def readFile():\n",
    "    \"read file text to the screen\"\n",
    "    os.system('cls')\n",
    "    filename_r = raw_input(\"Please input he file name: \")\n",
    "    try:\n",
    "        with open(filename_r, 'r') as fr:\n",
    "            read_data = fr.read()\n",
    "        print read_data\n",
    "        raw_input(\"输入任意键结束\")\n",
    "    except IOError:\n",
    "        print \"The file can not find!\"\n",
    "\n",
    "fun_dict = {'i': textEditor, 'w': saveText, 'r' : readFile, 'q' : exitEditor}\n",
    "\n",
    "def findNone():\n",
    "    \"if not function key, use this\"\n",
    "    print \"Can not find the key!\"\n",
    "    \n",
    "def switch(x):\n",
    "    'switch the function'\n",
    "    print \"switch\"\n",
    "    return fun_dict.get(x, findNone)\n",
    "\n",
    "def welcome():\n",
    "    \"welcome interface\"\n",
    "    print \"Welcom to Simple VIM Editor 1.0 !\"\n",
    "    print \"Current path: \" + os.getcwd() \n",
    "    print \"Please input: 'i' to editor, 'r' to read, 'w' to save, 'q' to quit.\"\n",
    "    \n",
    "def main_fun(command):\n",
    "    \"main function\"\n",
    "    print \"main function\"\n",
    "    switch(command)()\n",
    "    os.system('cls')\n",
    "\n",
    "if __name__ == '__main__':\n",
    "    welcome()\n",
    "    while True:\n",
    "    \n",
    "        command = raw_input(\"input:\")\n",
    "        print command\n",
    "        if (command == 'q'):\n",
    "            break\n",
    "#         if (command == 'w' or command == 'r' or command == 'i'):\n",
    "        main_fun(command)"
   ]
  },
  {
   "cell_type": "code",
   "execution_count": 12,
   "metadata": {},
   "outputs": [
    {
     "name": "stdout",
     "output_type": "stream",
     "text": [
      "Help on dict object:\n",
      "\n",
      "class dict(object)\n",
      " |  dict() -> new empty dictionary\n",
      " |  dict(mapping) -> new dictionary initialized from a mapping object's\n",
      " |      (key, value) pairs\n",
      " |  dict(iterable) -> new dictionary initialized as if via:\n",
      " |      d = {}\n",
      " |      for k, v in iterable:\n",
      " |          d[k] = v\n",
      " |  dict(**kwargs) -> new dictionary initialized with the name=value pairs\n",
      " |      in the keyword argument list.  For example:  dict(one=1, two=2)\n",
      " |  \n",
      " |  Methods defined here:\n",
      " |  \n",
      " |  __cmp__(...)\n",
      " |      x.__cmp__(y) <==> cmp(x,y)\n",
      " |  \n",
      " |  __contains__(...)\n",
      " |      D.__contains__(k) -> True if D has a key k, else False\n",
      " |  \n",
      " |  __delitem__(...)\n",
      " |      x.__delitem__(y) <==> del x[y]\n",
      " |  \n",
      " |  __eq__(...)\n",
      " |      x.__eq__(y) <==> x==y\n",
      " |  \n",
      " |  __ge__(...)\n",
      " |      x.__ge__(y) <==> x>=y\n",
      " |  \n",
      " |  __getattribute__(...)\n",
      " |      x.__getattribute__('name') <==> x.name\n",
      " |  \n",
      " |  __getitem__(...)\n",
      " |      x.__getitem__(y) <==> x[y]\n",
      " |  \n",
      " |  __gt__(...)\n",
      " |      x.__gt__(y) <==> x>y\n",
      " |  \n",
      " |  __init__(...)\n",
      " |      x.__init__(...) initializes x; see help(type(x)) for signature\n",
      " |  \n",
      " |  __iter__(...)\n",
      " |      x.__iter__() <==> iter(x)\n",
      " |  \n",
      " |  __le__(...)\n",
      " |      x.__le__(y) <==> x<=y\n",
      " |  \n",
      " |  __len__(...)\n",
      " |      x.__len__() <==> len(x)\n",
      " |  \n",
      " |  __lt__(...)\n",
      " |      x.__lt__(y) <==> x<y\n",
      " |  \n",
      " |  __ne__(...)\n",
      " |      x.__ne__(y) <==> x!=y\n",
      " |  \n",
      " |  __repr__(...)\n",
      " |      x.__repr__() <==> repr(x)\n",
      " |  \n",
      " |  __setitem__(...)\n",
      " |      x.__setitem__(i, y) <==> x[i]=y\n",
      " |  \n",
      " |  __sizeof__(...)\n",
      " |      D.__sizeof__() -> size of D in memory, in bytes\n",
      " |  \n",
      " |  clear(...)\n",
      " |      D.clear() -> None.  Remove all items from D.\n",
      " |  \n",
      " |  copy(...)\n",
      " |      D.copy() -> a shallow copy of D\n",
      " |  \n",
      " |  fromkeys(...)\n",
      " |      dict.fromkeys(S[,v]) -> New dict with keys from S and values equal to v.\n",
      " |      v defaults to None.\n",
      " |  \n",
      " |  get(...)\n",
      " |      D.get(k[,d]) -> D[k] if k in D, else d.  d defaults to None.\n",
      " |  \n",
      " |  has_key(...)\n",
      " |      D.has_key(k) -> True if D has a key k, else False\n",
      " |  \n",
      " |  items(...)\n",
      " |      D.items() -> list of D's (key, value) pairs, as 2-tuples\n",
      " |  \n",
      " |  iteritems(...)\n",
      " |      D.iteritems() -> an iterator over the (key, value) items of D\n",
      " |  \n",
      " |  iterkeys(...)\n",
      " |      D.iterkeys() -> an iterator over the keys of D\n",
      " |  \n",
      " |  itervalues(...)\n",
      " |      D.itervalues() -> an iterator over the values of D\n",
      " |  \n",
      " |  keys(...)\n",
      " |      D.keys() -> list of D's keys\n",
      " |  \n",
      " |  pop(...)\n",
      " |      D.pop(k[,d]) -> v, remove specified key and return the corresponding value.\n",
      " |      If key is not found, d is returned if given, otherwise KeyError is raised\n",
      " |  \n",
      " |  popitem(...)\n",
      " |      D.popitem() -> (k, v), remove and return some (key, value) pair as a\n",
      " |      2-tuple; but raise KeyError if D is empty.\n",
      " |  \n",
      " |  setdefault(...)\n",
      " |      D.setdefault(k[,d]) -> D.get(k,d), also set D[k]=d if k not in D\n",
      " |  \n",
      " |  update(...)\n",
      " |      D.update([E, ]**F) -> None.  Update D from dict/iterable E and F.\n",
      " |      If E present and has a .keys() method, does:     for k in E: D[k] = E[k]\n",
      " |      If E present and lacks .keys() method, does:     for (k, v) in E: D[k] = v\n",
      " |      In either case, this is followed by: for k in F: D[k] = F[k]\n",
      " |  \n",
      " |  values(...)\n",
      " |      D.values() -> list of D's values\n",
      " |  \n",
      " |  viewitems(...)\n",
      " |      D.viewitems() -> a set-like object providing a view on D's items\n",
      " |  \n",
      " |  viewkeys(...)\n",
      " |      D.viewkeys() -> a set-like object providing a view on D's keys\n",
      " |  \n",
      " |  viewvalues(...)\n",
      " |      D.viewvalues() -> an object providing a view on D's values\n",
      " |  \n",
      " |  ----------------------------------------------------------------------\n",
      " |  Data and other attributes defined here:\n",
      " |  \n",
      " |  __hash__ = None\n",
      " |  \n",
      " |  __new__ = <built-in method __new__ of type object>\n",
      " |      T.__new__(S, ...) -> a new object with type S, a subtype of T\n",
      "\n"
     ]
    }
   ],
   "source": [
    "help({})"
   ]
  }
 ],
 "metadata": {
  "kernelspec": {
   "display_name": "python27",
   "language": "python",
   "name": "python27"
  },
  "language_info": {
   "codemirror_mode": {
    "name": "ipython",
    "version": 2
   },
   "file_extension": ".py",
   "mimetype": "text/x-python",
   "name": "python",
   "nbconvert_exporter": "python",
   "pygments_lexer": "ipython2",
   "version": "2.7.17"
  }
 },
 "nbformat": 4,
 "nbformat_minor": 2
}
