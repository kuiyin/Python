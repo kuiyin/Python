{
 "cells": [
  {
   "cell_type": "markdown",
   "metadata": {},
   "source": [
    "对象属性：\n",
    "* 身份\n",
    "* 对象\n",
    "* 值\n",
    "***\n",
    "* 减少函数调用的次数\n",
    "每次调用函数都会付出 性能代价，如果我们能减少函数的调用次数，就会提高程序的性能\n",
    "* 对象值比较VS对象身份比较\n",
    "* 减少查询次数 \n",
    "通过使用 **from-import**，而不是 **import** 你可以减少一次査询\n",
    "***\n",
    "标准类型的分类\n",
    "* 存储模型\n",
    "一个能保存单个字面对象的类型，我们称它为原子或标量存储；那些可容纳多个对象的类型，我们称之为容器存储（容器对象有时会在文档中被称为复合 对象，不过这些对象并不仅仅指类型，还包括类似类实例这样的对象)。\n",
    "* 更新模型\n",
    "对象创建成功之后，它的值可以进行更新吗？分为：可变类型和不可变类型\n",
    "* 访问模型\n",
    "根据访问我们存储的数据的方式对数据类型进行分类。在访问模型中共有三种访问方式：直接存取、顺序和映射。"
   ]
  },
  {
   "cell_type": "code",
   "execution_count": 28,
   "metadata": {},
   "outputs": [
    {
     "name": "stdout",
     "output_type": "stream",
     "text": [
      "Help on class slice in module __builtin__:\n",
      "\n",
      "class slice(object)\n",
      " |  slice(stop)\n",
      " |  slice(start, stop[, step])\n",
      " |  \n",
      " |  Create a slice object.  This is used for extended slicing (e.g. a[0:10:2]).\n",
      " |  \n",
      " |  Methods defined here:\n",
      " |  \n",
      " |  __cmp__(...)\n",
      " |      x.__cmp__(y) <==> cmp(x,y)\n",
      " |  \n",
      " |  __getattribute__(...)\n",
      " |      x.__getattribute__('name') <==> x.name\n",
      " |  \n",
      " |  __hash__(...)\n",
      " |      x.__hash__() <==> hash(x)\n",
      " |  \n",
      " |  __reduce__(...)\n",
      " |      Return state information for pickling.\n",
      " |  \n",
      " |  __repr__(...)\n",
      " |      x.__repr__() <==> repr(x)\n",
      " |  \n",
      " |  indices(...)\n",
      " |      S.indices(len) -> (start, stop, stride)\n",
      " |      \n",
      " |      Assuming a sequence of length len, calculate the start and stop\n",
      " |      indices, and the stride length of the extended slice described by\n",
      " |      S. Out of bounds indices are clipped in a manner consistent with the\n",
      " |      handling of normal slices.\n",
      " |  \n",
      " |  ----------------------------------------------------------------------\n",
      " |  Data descriptors defined here:\n",
      " |  \n",
      " |  start\n",
      " |  \n",
      " |  step\n",
      " |  \n",
      " |  stop\n",
      " |  \n",
      " |  ----------------------------------------------------------------------\n",
      " |  Data and other attributes defined here:\n",
      " |  \n",
      " |  __new__ = <built-in method __new__ of type object>\n",
      " |      T.__new__(S, ...) -> a new object with type S, a subtype of T\n",
      "\n"
     ]
    }
   ],
   "source": [
    "help(slice)"
   ]
  },
  {
   "cell_type": "code",
   "execution_count": 30,
   "metadata": {},
   "outputs": [
    {
     "data": {
      "text/plain": [
       "['BooleanType',\n",
       " 'BufferType',\n",
       " 'BuiltinFunctionType',\n",
       " 'BuiltinMethodType',\n",
       " 'ClassType',\n",
       " 'CodeType',\n",
       " 'ComplexType',\n",
       " 'DictProxyType',\n",
       " 'DictType',\n",
       " 'DictionaryType',\n",
       " 'EllipsisType',\n",
       " 'FileType',\n",
       " 'FloatType',\n",
       " 'FrameType',\n",
       " 'FunctionType',\n",
       " 'GeneratorType',\n",
       " 'GetSetDescriptorType',\n",
       " 'InstanceType',\n",
       " 'IntType',\n",
       " 'LambdaType',\n",
       " 'ListType',\n",
       " 'LongType',\n",
       " 'MemberDescriptorType',\n",
       " 'MethodType',\n",
       " 'ModuleType',\n",
       " 'NoneType',\n",
       " 'NotImplementedType',\n",
       " 'ObjectType',\n",
       " 'SliceType',\n",
       " 'StringType',\n",
       " 'StringTypes',\n",
       " 'TracebackType',\n",
       " 'TupleType',\n",
       " 'TypeType',\n",
       " 'UnboundMethodType',\n",
       " 'UnicodeType',\n",
       " 'XRangeType',\n",
       " '__all__',\n",
       " '__builtins__',\n",
       " '__doc__',\n",
       " '__file__',\n",
       " '__name__',\n",
       " '__package__']"
      ]
     },
     "execution_count": 30,
     "metadata": {},
     "output_type": "execute_result"
    }
   ],
   "source": [
    "import types\n",
    "dir(types)"
   ]
  },
  {
   "cell_type": "code",
   "execution_count": 39,
   "metadata": {},
   "outputs": [
    {
     "name": "stdout",
     "output_type": "stream",
     "text": [
      "Define names for all type symbols known in the standard interpreter.\n",
      "\n",
      "Types that are part of optional modules (e.g. array) are not listed.\n",
      "\n",
      "\n",
      "types\n",
      "\n",
      "d:\\ProgramData\\Anaconda3\\envs\\python27\\lib\\types.pyc\n",
      "\n",
      "None\n",
      "\n",
      "['IntType', 'TypeType', 'CodeType', 'BooleanType', 'UnboundMethodType', 'StringType', 'BuiltinMethodType', 'FloatType', 'DictionaryType', 'NotImplementedType', 'BuiltinFunctionType', 'DictProxyType', 'MethodType', 'StringTypes', 'GeneratorType', 'ObjectType', 'DictType', 'GetSetDescriptorType', 'EllipsisType', 'ListType', 'TupleType', 'ModuleType', 'FrameType', 'FileType', 'LongType', 'BufferType', 'TracebackType', 'ClassType', 'InstanceType', 'MemberDescriptorType', 'UnicodeType', 'SliceType', 'ComplexType', 'LambdaType', 'FunctionType', 'XRangeType', 'NoneType']\n",
      "\n"
     ]
    }
   ],
   "source": [
    "print types.__doc__\n",
    "print\n",
    "print types.__name__\n",
    "print \n",
    "print types.__file__\n",
    "print \n",
    "print types.__package__\n",
    "print \n",
    "print types.__all__\n",
    "print \n",
    "# print types.__builtins__"
   ]
  },
  {
   "cell_type": "markdown",
   "metadata": {},
   "source": [
    "整型对象和字符串对象是不可变对象，所以 Python 会很高效地缓存它们。这会造成我们认为 Python应该创建新对象时，它却没有创建新对象的假象。"
   ]
  },
  {
   "cell_type": "code",
   "execution_count": 45,
   "metadata": {},
   "outputs": [
    {
     "name": "stdout",
     "output_type": "stream",
     "text": [
      "True\n",
      "True\n",
      "False\n"
     ]
    }
   ],
   "source": [
    "a = 10\n",
    "b = 10\n",
    "c = 100\n",
    "d = 100\n",
    "e = 10.0\n",
    "f = 10.0\n",
    "print a is b\n",
    "print c is d\n",
    "print e is f"
   ]
  },
  {
   "cell_type": "markdown",
   "metadata": {},
   "source": [
    "实战\n",
    "---\n",
    "原始：判断一个对象是否是数字类型"
   ]
  },
  {
   "cell_type": "code",
   "execution_count": 53,
   "metadata": {},
   "outputs": [
    {
     "name": "stdout",
     "output_type": "stream",
     "text": [
      "-69 is an integer\n",
      "-69 is an integer\n",
      "9999999999999999999999 is a long\n",
      "98.6 is a float\n",
      "(-5.2+1.9j) is a complex\n",
      "xxx is not a number at all\n"
     ]
    }
   ],
   "source": [
    "# !/usr/bin/env python\n",
    "\n",
    "\n",
    "'doc description'\n",
    "\n",
    "def displayNumType(num):\n",
    "    print num, \"is\",\n",
    "    if type(num) == type(0):\n",
    "        print 'an integer'\n",
    "    elif type(num) == type(0L):\n",
    "        print 'a long'\n",
    "    elif type(num) == type(0.0):\n",
    "        print 'a float'\n",
    "    elif type(num) == type(0+0j):\n",
    "        print 'a complex'\n",
    "    else:\n",
    "        print 'not a number at all'\n",
    "\n",
    "        \n",
    "if __name__ == '__main__':\n",
    "#     for i in range(10000):\n",
    "        \n",
    "    displayNumType(-69)\n",
    "    displayNumType(-69)\n",
    "    displayNumType(9999999999999999999999L) \n",
    "    displayNumType(98.6)\n",
    "    displayNumType(-5.2+1.9j) \n",
    "    displayNumType('xxx')\n"
   ]
  },
  {
   "cell_type": "markdown",
   "metadata": {},
   "source": [
    "修改1\n",
    "* 减少函数调用次数\n",
    "使用 types 模块\n",
    "* 对象值比较 vs 对象身份比较\n",
    "比较运算符 '=' 改为 ‘is'\n",
    "* 减少查询次数"
   ]
  },
  {
   "cell_type": "code",
   "execution_count": 57,
   "metadata": {},
   "outputs": [
    {
     "name": "stdout",
     "output_type": "stream",
     "text": [
      "-69 is an integer\n",
      "-69 is an integer\n",
      "9999999999999999999999 is a long\n",
      "98.6 is a float\n",
      "(-5.2+1.9j) is a complex\n",
      "xxx is not a number at all\n"
     ]
    }
   ],
   "source": [
    "# !/usr/bin/env python\n",
    "\n",
    "# import types\n",
    "from types import IntType\n",
    "from types import LongType\n",
    "from types import FloatType\n",
    "from types import ComplexType\n",
    "\n",
    "'doc description'\n",
    "\n",
    "\n",
    "# def displayNumType(num):\n",
    "#     print num, \"is\",\n",
    "#     if type(num) is types.IntType:\n",
    "#         print 'an integer'\n",
    "#     elif type(num) is types.LongType:\n",
    "#         print 'a long'\n",
    "#     elif type(num) is types.FloatType:\n",
    "#         print 'a float'\n",
    "#     elif type(num) is types.ComplexType:\n",
    "#         print 'a complex'\n",
    "#     else:\n",
    "#         print 'not a number at all'\n",
    "\n",
    "def displayNumType(num):\n",
    "    print num, \"is\",\n",
    "    if type(num) is IntType:\n",
    "        print 'an integer'\n",
    "    elif type(num) is LongType:\n",
    "        print 'a long'\n",
    "    elif type(num) is FloatType:\n",
    "        print 'a float'\n",
    "    elif type(num) is ComplexType:\n",
    "        print 'a complex'\n",
    "    else:\n",
    "        print 'not a number at all'\n",
    "        \n",
    "if __name__ == '__main__':\n",
    "#     for i in range(10000):\n",
    "        \n",
    "    displayNumType(-69)\n",
    "    displayNumType(-69)\n",
    "    displayNumType(9999999999999999999999L) \n",
    "    displayNumType(98.6)\n",
    "    displayNumType(-5.2+1.9j) \n",
    "    displayNumType('xxx')"
   ]
  },
  {
   "cell_type": "markdown",
   "metadata": {},
   "source": [
    "修改2\n",
    "使用 instance() 内建函数代替 type()\n",
    "检查类型（typechk.py）"
   ]
  },
  {
   "cell_type": "code",
   "execution_count": null,
   "metadata": {},
   "outputs": [],
   "source": [
    "# !/usr/bin/env python\n",
    "\n",
    "'typechk -- type check'\n",
    "\n",
    "def displayNumType(num):\n",
    "    print num, \"is\",\n",
    "    if isinstance(num, (int, long, float, complex)):\n",
    "        print 'a number of type:', type(num).__name__\n",
    "    else:\n",
    "        print 'not a number at all'\n",
    "        \n",
    "\n",
    "displayNumType(-69)\n",
    "displayNumType(-69)\n",
    "displayNumType(9999999999999999999999L) \n",
    "displayNumType(98.6)\n",
    "displayNumType(-5.2+1.9j) \n",
    "displayNumType('xxx')"
   ]
  },
  {
   "cell_type": "code",
   "execution_count": 54,
   "metadata": {},
   "outputs": [
    {
     "data": {
      "text/plain": [
       "['BooleanType',\n",
       " 'BufferType',\n",
       " 'BuiltinFunctionType',\n",
       " 'BuiltinMethodType',\n",
       " 'ClassType',\n",
       " 'CodeType',\n",
       " 'ComplexType',\n",
       " 'DictProxyType',\n",
       " 'DictType',\n",
       " 'DictionaryType',\n",
       " 'EllipsisType',\n",
       " 'FileType',\n",
       " 'FloatType',\n",
       " 'FrameType',\n",
       " 'FunctionType',\n",
       " 'GeneratorType',\n",
       " 'GetSetDescriptorType',\n",
       " 'InstanceType',\n",
       " 'IntType',\n",
       " 'LambdaType',\n",
       " 'ListType',\n",
       " 'LongType',\n",
       " 'MemberDescriptorType',\n",
       " 'MethodType',\n",
       " 'ModuleType',\n",
       " 'NoneType',\n",
       " 'NotImplementedType',\n",
       " 'ObjectType',\n",
       " 'SliceType',\n",
       " 'StringType',\n",
       " 'StringTypes',\n",
       " 'TracebackType',\n",
       " 'TupleType',\n",
       " 'TypeType',\n",
       " 'UnboundMethodType',\n",
       " 'UnicodeType',\n",
       " 'XRangeType',\n",
       " '__all__',\n",
       " '__builtins__',\n",
       " '__doc__',\n",
       " '__file__',\n",
       " '__name__',\n",
       " '__package__']"
      ]
     },
     "execution_count": 54,
     "metadata": {},
     "output_type": "execute_result"
    }
   ],
   "source": [
    "dir(types)"
   ]
  }
 ],
 "metadata": {
  "kernelspec": {
   "display_name": "python27",
   "language": "python",
   "name": "python27"
  },
  "language_info": {
   "codemirror_mode": {
    "name": "ipython",
    "version": 2
   },
   "file_extension": ".py",
   "mimetype": "text/x-python",
   "name": "python",
   "nbconvert_exporter": "python",
   "pygments_lexer": "ipython2",
   "version": "2.7.17"
  }
 },
 "nbformat": 4,
 "nbformat_minor": 2
}
