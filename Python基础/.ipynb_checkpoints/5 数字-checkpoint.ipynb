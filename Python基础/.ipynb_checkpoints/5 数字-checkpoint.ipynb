{
 "cells": [
  {
   "cell_type": "markdown",
   "metadata": {},
   "source": [
    "# 练习题\n",
    "***\n",
    "关于编程风格，最好不要在函数内使用 print 语句输出信息，而是通过 return 语句返回必要的值。这样调用函数的代码就可以自己处 理显示方式。这样你的代码就适应性更广，更便于重用。 \n"
   ]
  },
  {
   "cell_type": "markdown",
   "metadata": {},
   "source": [
    "1. 取余。判断给定年份是否是闰年。使用下面的公式。 一个闰年就是指它可以被4整除，但不能被100整除，或者它可以被400 整除。比如 1992年、1996年和2000年是闰年，但 1967年和1900年则不是闰年。下一个是闰年的整世纪是 2400 年。"
   ]
  },
  {
   "cell_type": "code",
   "execution_count": 9,
   "metadata": {},
   "outputs": [
    {
     "name": "stdout",
     "output_type": "stream",
     "text": [
      "1992 是闰年\n",
      "1996 是闰年\n",
      "2000 是闰年\n",
      "1967 是平年\n",
      "1900 是平年\n",
      "2400 是闰年\n"
     ]
    }
   ],
   "source": [
    "# !/usr/bin/env python\n",
    "\n",
    "'a leap year -- leapyear.py'\n",
    "\n",
    "def isLeapYear(num):\n",
    "    if ((num % 4 == 0 and num % 100 != 0) or\n",
    "        (num % 400 == 0)):\n",
    "        return str(num) + \" 是闰年\"\n",
    "    return str(num) + \" 是平年\"\n",
    "\n",
    "if __name__ == '__main__':\n",
    "    print isLeapYear(1992)\n",
    "    print isLeapYear(1996)\n",
    "    print isLeapYear(2000)\n",
    "    print isLeapYear(1967)\n",
    "    print isLeapYear(1900)\n",
    "    print isLeapYear(2400)"
   ]
  },
  {
   "cell_type": "markdown",
   "metadata": {},
   "source": [
    "2. 取余。取一个任意小于 1 美元的金额，然后计算可以换成最少多少枚硬币。硬币有 1 美分、5 美分、10 美分、25 美分 4 种。1 美元等于 100 美分。举例来说，0.76 美元换算结果应该是 3 枚 25 美分，1 枚 1 美分。类似 76枚 1 美分，2枚 25 美分+2 枚 10 美分+1 枚 5 美分+1 枚 1 美 分这样的结果都是不符合要求的。 "
   ]
  },
  {
   "cell_type": "code",
   "execution_count": 1,
   "metadata": {},
   "outputs": [
    {
     "name": "stdout",
     "output_type": "stream",
     "text": [
      "please input a num, Enter 'q' to quit > 76\n",
      "0\n",
      "3\n",
      "0\n",
      "0\n",
      "1\n",
      "[(100, 0), (25, 3), (10, 0), (5, 0), (1, 1)]\n",
      "please input a num, Enter 'q' to quit > 123\n",
      "1\n",
      "0\n",
      "2\n",
      "0\n",
      "3\n",
      "[(100, 1), (25, 0), (10, 2), (5, 0), (1, 3)]\n",
      "please input a num, Enter 'q' to quit > 11\n",
      "0\n",
      "0\n",
      "1\n",
      "0\n",
      "1\n",
      "[(100, 0), (25, 0), (10, 1), (5, 0), (1, 1)]\n",
      "please input a num, Enter 'q' to quit > 1\n",
      "0\n",
      "0\n",
      "0\n",
      "0\n",
      "1\n",
      "[(100, 0), (25, 0), (10, 0), (5, 0), (1, 1)]\n",
      "please input a num, Enter 'q' to quit > q\n",
      "Bye!\n"
     ]
    }
   ],
   "source": [
    "# !/usr/bin/env python\n",
    "\n",
    "'mod -- a test'\n",
    "\n",
    "dollar = (100, 25, 10, 5, 1)\n",
    "\n",
    "def mod(num):\n",
    "    \"get a tuple about :money split dollar and number\"\n",
    "    a = list()\n",
    "    for i in dollar:\n",
    "        index = num // i\n",
    "        print index\n",
    "        num = num % i\n",
    "        a.append((i, index))\n",
    "        if (num == 0):\n",
    "            break\n",
    "    return a\n",
    "\n",
    "\n",
    "\n",
    "if __name__ == \"__main__\":\n",
    "    while True:\n",
    "        num = raw_input(\"please input a num, Enter 'q' to quit > \")\n",
    "        if num == 'q':\n",
    "            print \"Bye!\"\n",
    "            break\n",
    "        print mod(int(num))\n",
    "        \n",
    "    "
   ]
  },
  {
   "cell_type": "markdown",
   "metadata": {},
   "source": [
    "3. 算术。写一个计算器程序。你的代码可以接受这样的表达式，两个操作数加一个操作符： N1 操 作符 N2。其中 N1 和 N2为整型或浮点型，操作符可以是+、-、*、/、％、**, 分别表示加法、 减法、乘法、整型除、取余和幂运算。计算这个表达式的结果，然后显示出来。提示：可以使 用字符串方法 split(), 但不可以使用内建函数 eval()。 "
   ]
  },
  {
   "cell_type": "code",
   "execution_count": 1,
   "metadata": {},
   "outputs": [
    {
     "name": "stdout",
     "output_type": "stream",
     "text": [
      "Enter your expression, 'q' to quit> 123-1\n",
      "122\n",
      "Enter your expression, 'q' to quit> 1*2\n",
      "2\n",
      "Enter your expression, 'q' to quit> 1/2\n",
      "0\n",
      "Enter your expression, 'q' to quit> 1 // 2\n",
      "0\n",
      "Enter your expression, 'q' to quit> 1 // 2\n",
      "0\n",
      "Enter your expression, 'q' to quit> 12 / 2\n",
      "6\n",
      "Enter your expression, 'q' to quit> 12 ** 2\n",
      "144\n",
      "Enter your expression, 'q' to quit> 10 % 3\n",
      "1\n",
      "Enter your expression, 'q' to quit> q\n",
      "Bye!\n"
     ]
    }
   ],
   "source": [
    "# !/usr/bin/env python\n",
    "\n",
    "'a number computer'\n",
    "\n",
    "\n",
    "def add(a, b):\n",
    "    \"add a and b, return sum of a and b\"\n",
    "    return a + b\n",
    "\n",
    "def sub(a, b):\n",
    "    'sub a to b, return sub a - b'\n",
    "    return a - b\n",
    "\n",
    "def div(a, b):\n",
    "    'div a to b, return div a / b'\n",
    "    return a / b\n",
    "\n",
    "def mul(a, b):\n",
    "    'multy a and b, return a * b'\n",
    "    return a * b\n",
    "\n",
    "def myeval(expression):\n",
    "    'eval function, operator expression'\n",
    "    print eval(expression)\n",
    "\n",
    "\n",
    "\n",
    "if __name__ == \"__main__\":\n",
    "    \"get input expression, and process this, return result\"\n",
    "    while True:\n",
    "        try:\n",
    "            expression = raw_input(\"Enter your expression, 'q' to quit> \")\n",
    "            if expression == 'q':\n",
    "                print 'Bye!'\n",
    "                break\n",
    "            myeval(expression)\n",
    "        except:\n",
    "            print \"[Error]Please enter effective expression!\"\n"
   ]
  },
  {
   "cell_type": "code",
   "execution_count": 3,
   "metadata": {},
   "outputs": [
    {
     "name": "stdout",
     "output_type": "stream",
     "text": [
      "Help on built-in function eval in module __builtin__:\n",
      "\n",
      "eval(...)\n",
      "    eval(source[, globals[, locals]]) -> value\n",
      "    \n",
      "    Evaluate the source in the context of globals and locals.\n",
      "    The source may be a string representing a Python expression\n",
      "    or a code object as returned by compile().\n",
      "    The globals must be a dictionary and locals can be any mapping,\n",
      "    defaulting to the current globals and locals.\n",
      "    If only globals is given, locals defaults to it.\n",
      "\n"
     ]
    }
   ],
   "source": [
    "# 上面的需要实现 eval 解析运算表达式的算法\n",
    "help(eval)"
   ]
  },
  {
   "cell_type": "markdown",
   "metadata": {},
   "source": [
    "4. 系统限制。写一段脚本确认一下你的 Python所能处理的整型、长整型、浮点型和复数的范围。 "
   ]
  },
  {
   "cell_type": "code",
   "execution_count": null,
   "metadata": {},
   "outputs": [],
   "source": []
  },
  {
   "cell_type": "markdown",
   "metadata": {},
   "source": [
    "5. 最大公约数和最小公倍数。请计算两个整型的最大公约数和最小公倍数"
   ]
  },
  {
   "cell_type": "code",
   "execution_count": null,
   "metadata": {},
   "outputs": [],
   "source": []
  },
  {
   "cell_type": "markdown",
   "metadata": {},
   "source": [
    "6. 家庭财务。给定一个初始金额和月开销数，使用循环，确定剩下的金额和当月的支出数，包括 最后的支出数。PaymentO函数会用到初始金额和月额度，输出结果应该类似下面的格式（例子 中的数字仅用于演示）。"
   ]
  },
  {
   "cell_type": "code",
   "execution_count": null,
   "metadata": {},
   "outputs": [],
   "source": []
  },
  {
   "cell_type": "markdown",
   "metadata": {},
   "source": [
    "7. *随机数。熟读随机数模块然后解下面七题。 生成一个有 N 个元素的由随机数 n 组成的列表，其中N和n的取值范围分别为（1 < N <= 100)和（0<=n<=2e31 -1)。然后再随机从这个列表中取 N(1<=N<=100) 个随机数出来， 对它们排序，然后显示这个子集."
   ]
  },
  {
   "cell_type": "code",
   "execution_count": null,
   "metadata": {},
   "outputs": [],
   "source": []
  }
 ],
 "metadata": {
  "kernelspec": {
   "display_name": "python27",
   "language": "python",
   "name": "python27"
  },
  "language_info": {
   "codemirror_mode": {
    "name": "ipython",
    "version": 2
   },
   "file_extension": ".py",
   "mimetype": "text/x-python",
   "name": "python",
   "nbconvert_exporter": "python",
   "pygments_lexer": "ipython2",
   "version": "2.7.17"
  }
 },
 "nbformat": 4,
 "nbformat_minor": 2
}
