{
 "cells": [
  {
   "cell_type": "markdown",
   "metadata": {},
   "source": [
    "# 基本风格指南"
   ]
  },
  {
   "cell_type": "markdown",
   "metadata": {},
   "source": [
    "文档\n",
    "Python 还提供了一个机制，可以通过 __doc__ 特别变量，动态获得文档字串。在模块、类声明、或 函数声明中第一个没有赋值的字符串可以用属性 obj._doc_来进行访问，其中 obj 是一个模块、类、或 函数的名字。这在运行时也可以进行!"
   ]
  },
  {
   "cell_type": "code",
   "execution_count": 1,
   "metadata": {},
   "outputs": [
    {
     "name": "stdout",
     "output_type": "stream",
     "text": [
      "The Zen of Python, by Tim Peters\n",
      "\n",
      "Beautiful is better than ugly.\n",
      "Explicit is better than implicit.\n",
      "Simple is better than complex.\n",
      "Complex is better than complicated.\n",
      "Flat is better than nested.\n",
      "Sparse is better than dense.\n",
      "Readability counts.\n",
      "Special cases aren't special enough to break the rules.\n",
      "Although practicality beats purity.\n",
      "Errors should never pass silently.\n",
      "Unless explicitly silenced.\n",
      "In the face of ambiguity, refuse the temptation to guess.\n",
      "There should be one-- and preferably only one --obvious way to do it.\n",
      "Although that way may not be obvious at first unless you're Dutch.\n",
      "Now is better than never.\n",
      "Although never is often better than *right* now.\n",
      "If the implementation is hard to explain, it's a bad idea.\n",
      "If the implementation is easy to explain, it may be a good idea.\n",
      "Namespaces are one honking great idea -- let's do more of those!\n"
     ]
    }
   ],
   "source": [
    "# Python 之禅\n",
    "import this"
   ]
  },
  {
   "cell_type": "raw",
   "metadata": {},
   "source": [
    "模块结构和布局\n",
    "# (1) 起始行(Unix) \n",
    "# (2) 模块文档 \n",
    "# (3) 模块导入 \n",
    "# (4) 变量定义 \n",
    "# (5) 类定义\n",
    "# (6) 函数定义 \n",
    "# (7) 主程序"
   ]
  },
  {
   "cell_type": "code",
   "execution_count": 3,
   "metadata": {},
   "outputs": [
    {
     "name": "stdout",
     "output_type": "stream",
     "text": [
      "ran test()\n"
     ]
    }
   ],
   "source": [
    "# /usr/bin/env python\n",
    "\n",
    "\"this is a test module\"\n",
    "\n",
    "import sys\n",
    "import os\n",
    "\n",
    "debug = True\n",
    "\n",
    "class FooClass(object):\n",
    "    \"Foo class\"\n",
    "    \n",
    "    pass\n",
    "\n",
    "def test():\n",
    "    \"test function\"\n",
    "    foo = FooClass()\n",
    "    if debug:\n",
    "        print 'ran test()'\n",
    "\n",
    "if __name__ == '__main__':\n",
    "    test()"
   ]
  },
  {
   "cell_type": "markdown",
   "metadata": {},
   "source": [
    "__name__ 指示模块应如何应被加载\n",
    "• 如果模块是被导入，__name__ 的值为模块名字\n",
    "• 如果模块是被直接执行，__name__ 的值为 '__main__'。"
   ]
  },
  {
   "cell_type": "markdown",
   "metadata": {},
   "source": [
    "在主程序中书写测试代码\n",
    "优秀的程序员和软件工程师，总是会为我们的应用程序提供一组测试代码或者简单教程。对那些仅 仅为了让别的程序导入而创建的模块来说，Python有效地简化了这个任务。这些模块理论上永远不会被 直接执行，那么，在这个模块被直接执行时进行系统测试岂不妙哉？设置起来难吗？一点儿也不难。 测试代码仅当该文件被直接执行时运行，也就是说，不是在被别的模块导入时。上文及核心笔记中 提到如何判断一个模块是被直接运行还是被导入的。我们应该利用_name_变量这个有利条件。将测试 代码放在一个叫做main()或testO(或者你随便取个名字）的函数中，如果该模块是被当成脚本运行，就调用这个函数。\n",
    "Python 标准库中运提供了 unittest 模块， 有时候它被称为 PyUnit, 是一个测试框架。当需要对一个大系统的组件进行正规系统的回归测试时，它就会派上用场。 "
   ]
  },
  {
   "cell_type": "markdown",
   "metadata": {},
   "source": [
    "# 内存管理"
   ]
  },
  {
   "cell_type": "markdown",
   "metadata": {},
   "source": [
    "引用计数、循环引用、垃圾收集"
   ]
  },
  {
   "cell_type": "markdown",
   "metadata": {},
   "source": [
    "# 第一个Python程序"
   ]
  },
  {
   "cell_type": "markdown",
   "metadata": {},
   "source": [
    "创建文件（makeTextFile.py）"
   ]
  },
  {
   "cell_type": "code",
   "execution_count": 6,
   "metadata": {},
   "outputs": [
    {
     "name": "stdout",
     "output_type": "stream",
     "text": [
      "current path: D:\\Awang\\JupyterNotebook\\Python\\Python����\n",
      ">poem\n",
      "\n",
      "Enter lines ('.' by itself to quti).\n",
      "\n",
      ">The Zen of Python, by Tim Peters\n",
      ">\n",
      ">Beautiful is better than ugly.\n",
      ">Explicit is better than implicit.\n",
      ">Simple is better than complex.\n",
      ">Complex is better than complicated.\n",
      ">Flat is better than nested.\n",
      ">Sparse is better than dense.\n",
      ">Readability counts.\n",
      ">Special cases aren't special enough to break the rules.\n",
      ">Although practicality beats purity.\n",
      ">Errors should never pass silently.\n",
      ">Unless explicitly silenced.\n",
      ">In the face of ambiguity, refuse the temptation to guess.\n",
      ">There should be one-- and preferably only one --obvious way to do it.\n",
      ">Although that way may not be obvious at first unless you're Dutch.\n",
      ">\n",
      ">Now is better than never.\n",
      ">Although never is often better than *right* now.\n",
      ">If the implementation is hard to explain, it's a bad idea.\n",
      ">If the implementation is easy to explain, it may be a good idea.\n",
      ">Namespaces are one honking great idea -- let's do more of those!\n",
      ">.\n",
      "DONE\n"
     ]
    }
   ],
   "source": [
    "# !/usr/bin/env python\n",
    "\n",
    "'makeTextFile.py -- create text file'\n",
    "\n",
    "import os\n",
    "ls = os.linesep\n",
    "\n",
    "print \"current path:\", os.getcwd()\n",
    "\n",
    "while True:\n",
    "    fname = raw_input('>')\n",
    "    if os.path.exists(fname):\n",
    "        print \"Error: '%s' already exists\" % fname\n",
    "    else:\n",
    "        break\n",
    "\n",
    "all = []\n",
    "print \"\\nEnter lines ('.' by itself to quti).\\n\"\n",
    "\n",
    "while True:\n",
    "    entry = raw_input(\">\")\n",
    "    if entry == '.':\n",
    "        break\n",
    "    else:\n",
    "        all.append(entry)\n",
    "        \n",
    "fobj = open(fname, 'w')\n",
    "fobj.writelines(['%s%s' % (x, ls) for x in all])\n",
    "fobj.close()\n",
    "print 'DONE'"
   ]
  },
  {
   "cell_type": "markdown",
   "metadata": {},
   "source": [
    "文件读取和显示（readTextFile.py）"
   ]
  },
  {
   "cell_type": "code",
   "execution_count": 7,
   "metadata": {},
   "outputs": [
    {
     "name": "stdout",
     "output_type": "stream",
     "text": [
      "Enter filename: poem\n",
      "\n",
      "The Zen of Python, by Tim Peters\n",
      "\n",
      "Beautiful is better than ugly.\n",
      "Explicit is better than implicit.\n",
      "Simple is better than complex.\n",
      "Complex is better than complicated.\n",
      "Flat is better than nested.\n",
      "Sparse is better than dense.\n",
      "Readability counts.\n",
      "Special cases aren't special enough to break the rules.\n",
      "Although practicality beats purity.\n",
      "Errors should never pass silently.\n",
      "Unless explicitly silenced.\n",
      "In the face of ambiguity, refuse the temptation to guess.\n",
      "There should be one-- and preferably only one --obvious way to do it.\n",
      "Although that way may not be obvious at first unless you're Dutch.\n",
      "\n",
      "Now is better than never.\n",
      "Although never is often better than *right* now.\n",
      "If the implementation is hard to explain, it's a bad idea.\n",
      "If the implementation is easy to explain, it may be a good idea.\n",
      "Namespaces are one honking great idea -- let's do more of those!\n"
     ]
    }
   ],
   "source": [
    "# !/usr/bin/env python\n",
    "\n",
    "'readTextFile.py -- read and display text file'\n",
    "\n",
    "fname = raw_input(\"Enter filename: \")\n",
    "print\n",
    "\n",
    "try:\n",
    "    fobj = open(fname, 'r')\n",
    "except IOError, e:\n",
    "    print \"*** file open error:\", e\n",
    "else:\n",
    "    for eachLine in fobj:\n",
    "        print eachLine,\n",
    "    fobj.close()"
   ]
  },
  {
   "cell_type": "markdown",
   "metadata": {},
   "source": [
    "# 相关模块和开发工具"
   ]
  },
  {
   "cell_type": "markdown",
   "metadata": {},
   "source": [
    "《Python 风格指南》 （Python Style Guide，PEP8)、 《Python 快速参考指南》 （Python Quick Reference Guide) 和《Python 常见问答》（Python FAQ) 都是开发者很重要的 “工具”。另外，还有一些模块会帮助你成为一个优秀的 Python 程序员。 \n",
    "调试器：pdb\n",
    "记录器：logging\n",
    "性能测试器：profile、hotshot、cProfile\n",
    "logging 模块是在 Python2.3 中新增的，它定义了一些函数和类帮助你的程序实现灵活的日志系统。 共有五级日志级别：紧急、错误、警告、信息和调试。 "
   ]
  },
  {
   "cell_type": "code",
   "execution_count": 15,
   "metadata": {},
   "outputs": [
    {
     "data": {
      "text/plain": [
       "\"'\\\\r\\\\n'\""
      ]
     },
     "execution_count": 15,
     "metadata": {},
     "output_type": "execute_result"
    }
   ],
   "source": [
    "import os\n",
    "ls = os.linesep\n",
    "repr(ls)"
   ]
  },
  {
   "cell_type": "markdown",
   "metadata": {},
   "source": [
    "# 实战\n",
    "针对于 makeTextFile.py 和 readTextFile.py 脚本\n",
    "1、合并源文件。将两段程序合并成一个，给它起一个你喜欢的名字，比如readNwriteTextFiles.py。 让用户自己选择是创建还是显示一个文本文件\n",
    "2、添加新功能。将你上一个问题改造好的readNwriteTextFileS.py 增加一个新功能：允许用户编辑一个已经存在的文本文件。你可以使用任何方式，无论是一次编辑一行，还是一次编辑所有文本。需要提醒一下的是，一次编辑全部文本有一定难度，你可能需要借助 GUI 工具包或一 个基于屏幕文本编辑的模块比如 curses 模块。要允许用户保存他的修改（保存到文件）或取 消他的修改（不改变原始文件)，并且要确保原始文件的安全性（不论程序是否正常关闭） 。"
   ]
  },
  {
   "cell_type": "markdown",
   "metadata": {},
   "source": [
    "文件编码器（readNwriteTextFiles.py）"
   ]
  },
  {
   "cell_type": "code",
   "execution_count": 1,
   "metadata": {},
   "outputs": [
    {
     "name": "stdout",
     "output_type": "stream",
     "text": [
      "Read Or Wirte file?\n",
      "Please Enter 'read' or 'write', 'q' to quit>q\n",
      "Please Enter 'read' or 'write', 'q' to quit>read\n"
     ]
    }
   ],
   "source": [
    "# !/usr/bin/env python\n",
    "\n",
    "'readNwirteTextFiles.py -- read or write text file'\n",
    "\n",
    "import sys\n",
    "import os\n",
    "ls = os.linesep\n",
    "\n",
    "print \"Read Or Wirte file?\"\n",
    "\n",
    "while True:\n",
    "    process = raw_input(\"Please Enter 'read' or 'write', 'q' to quit>\")\n",
    "    if process == 'q':\n",
    "        exit\n",
    "    elif process == 'read' or process == 'wirte':\n",
    "        break\n",
    "    else:\n",
    "        print \"[Error]Please Enter 'read' or 'write', Enter 'q' to quit.\"\n",
    "\n",
    "\n",
    "\n",
    "\n",
    "if process == 'read':\n",
    "    pass\n",
    "else:\n",
    "    pass\n"
   ]
  }
 ],
 "metadata": {
  "kernelspec": {
   "display_name": "python27",
   "language": "python",
   "name": "python27"
  },
  "language_info": {
   "codemirror_mode": {
    "name": "ipython",
    "version": 2
   },
   "file_extension": ".py",
   "mimetype": "text/x-python",
   "name": "python",
   "nbconvert_exporter": "python",
   "pygments_lexer": "ipython2",
   "version": "2.7.17"
  }
 },
 "nbformat": 4,
 "nbformat_minor": 2
}
