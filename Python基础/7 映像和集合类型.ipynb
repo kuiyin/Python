{
 "cells": [
  {
   "cell_type": "code",
   "execution_count": 8,
   "metadata": {},
   "outputs": [
    {
     "name": "stdout",
     "output_type": "stream",
     "text": [
      "-378539185\n",
      "-1600925533\n",
      "4978356\n"
     ]
    }
   ],
   "source": [
    "a = (1, 2, 3)\n",
    "b = \"abc\"\n",
    "c = [1 ,2]\n",
    "print hash(a)\n",
    "print hash(b)\n",
    "# print hash(c)\n",
    "\n",
    "class test:\n",
    "    def foo():\n",
    "        print 123\n",
    "    name = [1, 2]\n",
    "\n",
    "d = test()\n",
    "\n",
    "print hash(d)"
   ]
  },
  {
   "cell_type": "code",
   "execution_count": 9,
   "metadata": {},
   "outputs": [
    {
     "name": "stdout",
     "output_type": "stream",
     "text": [
      "Help on built-in function hash in module __builtin__:\n",
      "\n",
      "hash(...)\n",
      "    hash(object) -> integer\n",
      "    \n",
      "    Return a hash value for the object.  Two objects with the same value have\n",
      "    the same hash value.  The reverse is not necessarily true, but likely.\n",
      "\n"
     ]
    }
   ],
   "source": [
    "help(hash)"
   ]
  }
 ],
 "metadata": {
  "kernelspec": {
   "display_name": "python27",
   "language": "python",
   "name": "python27"
  },
  "language_info": {
   "codemirror_mode": {
    "name": "ipython",
    "version": 2
   },
   "file_extension": ".py",
   "mimetype": "text/x-python",
   "name": "python",
   "nbconvert_exporter": "python",
   "pygments_lexer": "ipython2",
   "version": "2.7.17"
  }
 },
 "nbformat": 4,
 "nbformat_minor": 2
}
