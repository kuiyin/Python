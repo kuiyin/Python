{
 "cells": [
  {
   "cell_type": "markdown",
   "metadata": {},
   "source": [
    "内容来源：[markdown](http://www.markdown.cn/)"
   ]
  },
  {
   "cell_type": "markdown",
   "metadata": {},
   "source": [
    "# 概览\n",
    "***\n",
    "\n",
    "## 宗旨\n",
    "Markdown 的目标是实现「易读易写」。\n",
    "\n",
    "可读性，无论如何，都是最重要的。一份使用 Markdown 格式撰写的文件应该可以直接以纯文本发布，并且看起来不会像是由许多标签或是格式指令所构成。Markdown 语法受到一些既有 text-to-HTML 格式的影响，包括 Setext、atx、Textile、reStructuredText、Grutatext 和 EtText，而最大灵感来源其实是纯文本电子邮件的格式。\n",
    "\n",
    "## 兼容 HTML\n",
    "Markdown 语法的目标是：成为一种适用于网络的书写语言。\n",
    "\n",
    "HTML 是一种发布的格式，Markdown 是一种书写的格式。就这样，Markdown 的格式语法只涵盖纯文本可以涵盖的范围。\n",
    "\n",
    "不在 Markdown 涵盖范围之内的标签，都可以直接在文档里面用 HTML 撰写。不需要额外标注这是 HTML 或是 Markdown；只要直接加标签就可以了。"
   ]
  },
  {
   "cell_type": "markdown",
   "metadata": {},
   "source": [
    "# 区块元素\n",
    "***\n",
    "\n",
    "## 段落和换行\n",
    "\n",
    "一个 Markdown 段落是由一个或多个连续的文本行组成，它的前后要有一个以上的空行（空行的定义是显示上看起来像是空的，便会被视为空行。比方说，若某一行只包含空格和制表符，则该行也会被视为空行）。普通段落不该用空格或制表符来缩进。\n",
    "\n",
    "如果你确实想要依赖 Markdown 来插入 <br /> 标签的话，在插入处先按入两个以上的空格然后回车。\n",
    "\n",
    "## 标题\n",
    "\n",
    "Markdown 支持两种标题的语法，类 Setext 和类 atx 形式。\n",
    "\n",
    "类 Setext 形式是用底线的形式，利用 = （最高阶标题）和 - （第二阶标题）。任何数量的 = 和 - 都可以有效果。\n",
    "\n",
    "类 Atx 形式则是在行首插入 1 到 6 个 # ，对应到标题 1 到 6 阶，例如：\n",
    "\n",
    "## 区块引用\n",
    "\n",
    "Markdown 标记区块引用是使用类似 email 中用 > 的引用方式。如果你还熟悉在 email 信件中的引言部分，你就知道怎么在 Markdown 文件中建立一个区块引用，那会看起来像是你自己先断好行，然后在每行的最前面加上 > ：\n",
    "\n",
    "## 列表\n",
    "\n",
    "Markdown 支持有序列表和无序列表。\n",
    "\n",
    "无序列表使用星号、加号或是减号作为列表标记\n",
    "\n",
    "有序列表则使用数字接着一个英文句点\n",
    "\n",
    "\n",
    "## 代码区块\n",
    "\n",
    "    这是一个区块\n",
    "    \n",
    "        这是一个代码区块\n",
    "        \n",
    "## 分隔线\n",
    "\n",
    "你可以在一行中用三个以上的星号、减号、底线来建立一个分隔线，行内不能有其他东西。你也可以在星号或是减号中间插入空格。下面每种写法都可以建立分隔线\n",
    "\n",
    "* * *\n",
    "\n",
    "***\n",
    "\n",
    "******\n",
    "\n",
    "- - -\n",
    "\n",
    "________________________"
   ]
  },
  {
   "cell_type": "markdown",
   "metadata": {},
   "source": [
    "# 区段元素\n",
    "***\n",
    "\n",
    "## 链接\n"
   ]
  },
  {
   "cell_type": "markdown",
   "metadata": {},
   "source": []
  },
  {
   "cell_type": "markdown",
   "metadata": {},
   "source": [
    "内容来自链接:[如何写md格式的文档](https://www.jianshu.com/p/f378e3f2e7e1)"
   ]
  },
  {
   "cell_type": "markdown",
   "metadata": {},
   "source": [
    "# 一、标题\n",
    "\n",
    "# 1\n",
    "## 2\n",
    "### 3\n",
    "#### 4\n",
    "##### 5\n",
    "###### 6"
   ]
  },
  {
   "cell_type": "markdown",
   "metadata": {},
   "source": [
    "# 二、字体\n",
    "## 加粗\n",
    "字体\n",
    "**字体**\n",
    "\n",
    "## 斜体\n",
    "字体\n",
    "*字体*\n",
    "_字体_\n",
    "\n",
    "## 斜体加粗\n",
    "字体\n",
    "***字体***\n",
    "**_字体_**\n",
    "\n",
    "## 删除线\n",
    "字体\n",
    "~~字体~~"
   ]
  },
  {
   "cell_type": "markdown",
   "metadata": {
    "slideshow": {
     "slide_type": "-"
    }
   },
   "source": [
    "# 三、引用\n",
    "字体\n",
    ">字体\n",
    ">>字体\n",
    ">>>字体"
   ]
  },
  {
   "cell_type": "markdown",
   "metadata": {},
   "source": [
    "# 四、分割线\n",
    "---\n",
    "***"
   ]
  },
  {
   "attachments": {
    "2.PNG": {
     "image/png": "[encoded data removed]"
    }
   },
   "cell_type": "markdown",
   "metadata": {},
   "source": [
    "# 五、图片\n",
    "![2.PNG](attachment:2.PNG)\n"
   ]
  },
  {
   "cell_type": "markdown",
   "metadata": {},
   "source": [
    "# 六、超链接\n",
    "[百度](http://baidu.com/)\n"
   ]
  },
  {
   "cell_type": "markdown",
   "metadata": {},
   "source": [
    "# 七、列表\n",
    "## 无序列表\n",
    "- 内容1\n",
    "+ 内容2\n",
    "* 内容3\n",
    "\n",
    "中间要带空格\n",
    "\n",
    "## 有序列表\n",
    "1. 内容1\n",
    "2. 内容2\n",
    "3. 内容3\n",
    "\n",
    "数字加点,序号跟内容之间要有空格\n",
    "\n",
    "## 列表嵌套\n",
    "上一级和下一级之间敲三个空格即可\n",
    "\n",
    "- 一级无序\n",
    "   - 二级无序\n",
    "   - 二级无序\n",
    "      - 三级无序\n",
    "         - 四级无序\n",
    "            - 五级无序\n",
    "               - N级无序\n",
    "           \n",
    "- 一级无序\n",
    "   - 二级无序\n",
    "   - 二级无序\n",
    "      - 三级无序\n",
    "      \n",
    "1. 一级有序\n",
    "   1. 二级有序\n",
    "   2. 二级有序\n",
    "      1. 三级有序\n",
    "      2. 三级有序\n",
    "2. 一级有序\n",
    "   1. 二级有序\n",
    "   2. 二级有序\n",
    "      1. 三级有序\n",
    "   \n",
    " "
   ]
  },
  {
   "cell_type": "markdown",
   "metadata": {},
   "source": [
    "# 八、表格\n",
    "\n",
    "表头|表头|表头\n",
    "---|:--:|---:\n",
    "内容|内容|内容\n",
    "内容|内容|内容\n",
    "\n",
    "第二行分割表头和内容。\n",
    "-有一个就行，为了对齐，多加了几个\n",
    "文字默认居左\n",
    "-两边加：表示文字居中\n",
    "-右边加：表示文字居右\n",
    "注：原生的语法两边都要用 | 包起来。此处省略\n",
    "\n",
    "\n",
    "| 表头 | 表头 | 表头 |\n",
    "| --- | --- | --- |\n",
    "|第一行|第一行|第一行|\n",
    "|第二行|第二行|第二行|\n",
    "|第三行|第三行|第三行|"
   ]
  },
  {
   "cell_type": "markdown",
   "metadata": {},
   "source": [
    "# 九、代码\n",
    "\n",
    "~单行代码~\n",
    "\n",
    "~~~\n",
    "  代码块\n",
    "~~~\n",
    "你好"
   ]
  }
 ],
 "metadata": {
  "kernelspec": {
   "display_name": "python27",
   "language": "python",
   "name": "python27"
  },
  "language_info": {
   "codemirror_mode": {
    "name": "ipython",
    "version": 2
   },
   "file_extension": ".py",
   "mimetype": "text/x-python",
   "name": "python",
   "nbconvert_exporter": "python",
   "pygments_lexer": "ipython2",
   "version": "2.7.17"
  }
 },
 "nbformat": 4,
 "nbformat_minor": 2
}
