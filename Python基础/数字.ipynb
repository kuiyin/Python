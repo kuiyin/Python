{
 "cells": [
  {
   "cell_type": "code",
   "execution_count": 11,
   "metadata": {},
   "outputs": [
    {
     "data": {
      "text/plain": [
       "99920027994400699944002799920001L"
      ]
     },
     "execution_count": 11,
     "metadata": {},
     "output_type": "execute_result"
    }
   ],
   "source": [
    "9999 ** 8\n"
   ]
  },
  {
   "cell_type": "code",
   "execution_count": 17,
   "metadata": {},
   "outputs": [
    {
     "name": "stdout",
     "output_type": "stream",
     "text": [
      "(-8.333-1.47j)\n",
      "-8.333\n",
      "-1.47\n",
      "(-8.333+1.47j)\n"
     ]
    }
   ],
   "source": [
    "aComplex = -8.333 - 1.47j\n",
    "print aComplex\n",
    "print aComplex.real\n",
    "print aComplex.imag\n",
    "print aComplex.conjugate()"
   ]
  },
  {
   "cell_type": "code",
   "execution_count": 18,
   "metadata": {
    "scrolled": true
   },
   "outputs": [
    {
     "name": "stdout",
     "output_type": "stream",
     "text": [
      "Help on built-in function coerce in module __builtin__:\n",
      "\n",
      "coerce(...)\n",
      "    coerce(x, y) -> (x1, y1)\n",
      "    \n",
      "    Return a tuple consisting of the two numeric arguments converted to\n",
      "    a common type, using the same rules as used by arithmetic operations.\n",
      "    If coercion is not possible, raise TypeError.\n",
      "\n"
     ]
    }
   ],
   "source": [
    "help(coerce)"
   ]
  },
  {
   "cell_type": "code",
   "execution_count": 26,
   "metadata": {},
   "outputs": [
    {
     "data": {
      "text/plain": [
       "['__doc__',\n",
       " '__init__',\n",
       " '__module__',\n",
       " '__repr__',\n",
       " 'compiler_flag',\n",
       " 'getMandatoryRelease',\n",
       " 'getOptionalRelease',\n",
       " 'mandatory',\n",
       " 'optional']"
      ]
     },
     "execution_count": 26,
     "metadata": {},
     "output_type": "execute_result"
    }
   ],
   "source": [
    "from __future__ import division\n",
    "dir(division)"
   ]
  },
  {
   "cell_type": "code",
   "execution_count": 35,
   "metadata": {},
   "outputs": [
    {
     "data": {
      "text/plain": [
       "12"
      ]
     },
     "execution_count": 35,
     "metadata": {},
     "output_type": "execute_result"
    }
   ],
   "source": [
    "3 << 2"
   ]
  }
 ],
 "metadata": {
  "kernelspec": {
   "display_name": "python27",
   "language": "python",
   "name": "python27"
  },
  "language_info": {
   "codemirror_mode": {
    "name": "ipython",
    "version": 2
   },
   "file_extension": ".py",
   "mimetype": "text/x-python",
   "name": "python",
   "nbconvert_exporter": "python",
   "pygments_lexer": "ipython2",
   "version": "2.7.17"
  }
 },
 "nbformat": 4,
 "nbformat_minor": 2
}
